{
 "cells": [
  {
   "cell_type": "code",
   "execution_count": 22,
   "id": "initial_id",
   "metadata": {
    "collapsed": true,
    "ExecuteTime": {
     "end_time": "2023-11-24T11:52:20.880668Z",
     "start_time": "2023-11-24T11:52:20.876376900Z"
    }
   },
   "outputs": [
    {
     "name": "stdout",
     "output_type": "stream",
     "text": [
      "0\n",
      "1\n",
      "2\n",
      "3\n",
      "4\n",
      "5\n",
      "6\n",
      "7\n",
      "8\n",
      "9\n",
      "10\n",
      "11\n",
      "12\n",
      "13\n",
      "14\n",
      "15\n",
      "16\n",
      "17\n",
      "18\n",
      "19\n",
      "20\n",
      "21\n",
      "22\n",
      "23\n",
      "24\n",
      "25\n",
      "26\n",
      "27\n",
      "28\n",
      "29\n",
      "30\n",
      "31\n",
      "32\n",
      "33\n",
      "34\n",
      "35\n",
      "36\n",
      "37\n",
      "38\n",
      "39\n"
     ]
    },
    {
     "data": {
      "text/plain": "1029.5451812396657"
     },
     "execution_count": 22,
     "metadata": {},
     "output_type": "execute_result"
    }
   ],
   "source": [
    "sum = 0\n",
    "for i in range(40):\n",
    "    print(i)\n",
    "    sum += 60 / (1.05)**(i+1)\n",
    "sum"
   ]
  },
  {
   "cell_type": "code",
   "execution_count": 23,
   "outputs": [
    {
     "data": {
      "text/plain": "1171.5908635399433"
     },
     "execution_count": 23,
     "metadata": {},
     "output_type": "execute_result"
    }
   ],
   "source": [
    "sum+=1000 / (1.05)**(40)\n",
    "sum"
   ],
   "metadata": {
    "collapsed": false,
    "ExecuteTime": {
     "end_time": "2023-11-24T11:52:27.389668400Z",
     "start_time": "2023-11-24T11:52:27.374431800Z"
    }
   },
   "id": "c1b1b1d03aae3da3"
  },
  {
   "cell_type": "code",
   "execution_count": 24,
   "outputs": [
    {
     "data": {
      "text/plain": "757.171581002804"
     },
     "execution_count": 24,
     "metadata": {},
     "output_type": "execute_result"
    }
   ],
   "source": [
    "sum = 0\n",
    "for i in range(60):\n",
    "    sum += 40 / 1.05**(i+1)\n",
    "sum"
   ],
   "metadata": {
    "collapsed": false,
    "ExecuteTime": {
     "end_time": "2023-11-24T11:52:40.198575700Z",
     "start_time": "2023-11-24T11:52:40.172097800Z"
    }
   },
   "id": "7816c9909c854225"
  },
  {
   "cell_type": "code",
   "execution_count": 27,
   "outputs": [
    {
     "data": {
      "text/plain": "53.53552374649414"
     },
     "execution_count": 27,
     "metadata": {},
     "output_type": "execute_result"
    }
   ],
   "source": [
    "1000 / (1.05)**(60)"
   ],
   "metadata": {
    "collapsed": false,
    "ExecuteTime": {
     "end_time": "2023-11-24T11:52:54.825687800Z",
     "start_time": "2023-11-24T11:52:54.806308400Z"
    }
   },
   "id": "2313d9f5d1e3e47b"
  },
  {
   "cell_type": "code",
   "execution_count": 28,
   "outputs": [
    {
     "data": {
      "text/plain": "136.36363636363635"
     },
     "execution_count": 28,
     "metadata": {},
     "output_type": "execute_result"
    }
   ],
   "source": [
    "150 / 1.1"
   ],
   "metadata": {
    "collapsed": false,
    "ExecuteTime": {
     "end_time": "2023-11-24T11:55:25.169521500Z",
     "start_time": "2023-11-24T11:55:25.161356300Z"
    }
   },
   "id": "333650382b9593f9"
  },
  {
   "cell_type": "code",
   "execution_count": 29,
   "outputs": [
    {
     "data": {
      "text/plain": "73.5"
     },
     "execution_count": 29,
     "metadata": {},
     "output_type": "execute_result"
    }
   ],
   "source": [
    "3.5*21"
   ],
   "metadata": {
    "collapsed": false,
    "ExecuteTime": {
     "end_time": "2023-11-24T11:56:28.436148500Z",
     "start_time": "2023-11-24T11:56:28.427786500Z"
    }
   },
   "id": "3ece3b0981ac26c7"
  },
  {
   "cell_type": "code",
   "execution_count": 34,
   "outputs": [
    {
     "data": {
      "text/plain": "975.25"
     },
     "execution_count": 34,
     "metadata": {},
     "output_type": "execute_result"
    }
   ],
   "source": [
    "1000 *(1-0.0495/2)"
   ],
   "metadata": {
    "collapsed": false,
    "ExecuteTime": {
     "end_time": "2023-11-24T12:02:45.147195900Z",
     "start_time": "2023-11-24T12:02:45.136340700Z"
    }
   },
   "id": "512fd96590467cbb"
  },
  {
   "cell_type": "code",
   "execution_count": 1,
   "outputs": [
    {
     "name": "stdout",
     "output_type": "stream",
     "text": [
      "0.19941348973607037\n",
      "0.17481371087928463\n"
     ]
    },
    {
     "data": {
      "text/plain": "0.17676767676767677"
     },
     "execution_count": 1,
     "metadata": {},
     "output_type": "execute_result"
    }
   ],
   "source": [
    "def Cp(p, rss):\n",
    "    sigma = rss / (66 - p - 1)\n",
    "    cp = (rss + 2 * p * sigma) / 66\n",
    "    return cp\n",
    "\n",
    "\n",
    "print(Cp(3, 12))\n",
    "print(Cp(4, 10.2))\n",
    "Cp(5, 10)"
   ],
   "metadata": {
    "collapsed": false,
    "ExecuteTime": {
     "end_time": "2024-02-26T03:57:56.913167500Z",
     "start_time": "2024-02-26T03:57:56.889821Z"
    }
   },
   "id": "f9adbe340cc40f13"
  },
  {
   "cell_type": "code",
   "outputs": [
    {
     "name": "stdout",
     "output_type": "stream",
     "text": [
      "0.76\n",
      "0.796\n",
      "0.8\n"
     ]
    }
   ],
   "source": [
    "print(1 - 12 / 50)\n",
    "print(1 - 10.2 / 50)\n",
    "print(1 - 10 / 50)"
   ],
   "metadata": {
    "collapsed": false,
    "ExecuteTime": {
     "end_time": "2024-02-26T03:58:50.872496500Z",
     "start_time": "2024-02-26T03:58:50.850566500Z"
    }
   },
   "id": "670a413c778fd124",
   "execution_count": 2
  },
  {
   "cell_type": "code",
   "outputs": [
    {
     "data": {
      "text/plain": "0.37754066879814546"
     },
     "execution_count": 3,
     "metadata": {},
     "output_type": "execute_result"
    }
   ],
   "source": [
    "import numpy as np\n",
    "np.exp(-0.5) / (1 + np.exp(-0.5))"
   ],
   "metadata": {
    "collapsed": false,
    "ExecuteTime": {
     "end_time": "2024-02-26T06:45:42.821472900Z",
     "start_time": "2024-02-26T06:45:42.689943600Z"
    }
   },
   "id": "ee356a5ba5074b44",
   "execution_count": 3
  },
  {
   "cell_type": "code",
   "outputs": [
    {
     "data": {
      "text/plain": "0.7518524532975261"
     },
     "execution_count": 4,
     "metadata": {},
     "output_type": "execute_result"
    }
   ],
   "source": [
    "(4 * np.exp(-0.5) / (np.exp(-2 / 9) + 4 * np.exp(-0.5)))"
   ],
   "metadata": {
    "collapsed": false,
    "ExecuteTime": {
     "end_time": "2024-02-26T07:03:56.597409200Z",
     "start_time": "2024-02-26T07:03:56.571425400Z"
    }
   },
   "id": "1d0869a8709839a8",
   "execution_count": 4
  },
  {
   "cell_type": "code",
   "outputs": [
    {
     "data": {
      "text/plain": "(3, 4)"
     },
     "execution_count": 12,
     "metadata": {},
     "output_type": "execute_result"
    }
   ],
   "source": [
    "import torch\n",
    "import numpy as np\n",
    "from tqdm import tqdm\n",
    "from phe import paillier\n",
    "tensor = torch.Tensor([[1,2,3,4], [5,6,7,8], [9,10,11,12]])\n",
    "np.array(tensor).shape"
   ],
   "metadata": {
    "collapsed": false,
    "ExecuteTime": {
     "end_time": "2024-02-28T15:46:23.644354Z",
     "start_time": "2024-02-28T15:46:23.627400Z"
    }
   },
   "id": "3131d1da973b4972",
   "execution_count": 12
  },
  {
   "cell_type": "code",
   "outputs": [
    {
     "data": {
      "text/plain": "OrderedDict([('0.weight',\n              tensor([[ 0.1152, -0.1494,  0.0746,  0.1382,  0.0954, -0.2129, -0.0364, -0.0303,\n                       -0.0134,  0.0903, -0.1527,  0.1547,  0.0439, -0.1754, -0.0059, -0.1625,\n                        0.1836, -0.1389, -0.1688,  0.0078],\n                      [-0.1970,  0.2144,  0.1270,  0.1825,  0.0266,  0.1565, -0.2115, -0.2190,\n                        0.1667,  0.1963,  0.2194, -0.0482, -0.1382,  0.1716,  0.0684, -0.1222,\n                       -0.0772,  0.0579, -0.1700, -0.1036],\n                      [ 0.1800, -0.1441, -0.1091,  0.0511,  0.0451,  0.0439, -0.0759,  0.1657,\n                        0.1361, -0.0696,  0.1651, -0.1858, -0.1468,  0.1681,  0.0479,  0.1335,\n                        0.0235,  0.2120, -0.0235,  0.1609],\n                      [ 0.0635,  0.1810,  0.0416,  0.0279,  0.0858, -0.1147, -0.1616, -0.0342,\n                       -0.0314,  0.0787, -0.1648,  0.1374, -0.2007,  0.1755,  0.1366,  0.2135,\n                       -0.0906,  0.0360, -0.0893,  0.1323],\n                      [ 0.0214, -0.1772,  0.0940,  0.0115,  0.1899,  0.1250, -0.0032, -0.2001,\n                       -0.1171, -0.1114,  0.0976,  0.2077, -0.0590,  0.0543,  0.2160, -0.0612,\n                       -0.0330,  0.0651, -0.0876, -0.0611],\n                      [-0.0161,  0.2075,  0.2118, -0.2219,  0.1720,  0.1362, -0.1607, -0.0606,\n                        0.0664, -0.2142,  0.1737, -0.1404, -0.1169,  0.0466,  0.1243, -0.1426,\n                       -0.1071, -0.1824, -0.1548,  0.1759],\n                      [ 0.0022,  0.2092, -0.0830,  0.0401,  0.1818,  0.0927,  0.0791,  0.1748,\n                       -0.1248, -0.1511, -0.0112,  0.1370, -0.2192,  0.0321,  0.0163, -0.1872,\n                       -0.0882,  0.0305, -0.0806, -0.1786],\n                      [ 0.0083, -0.0485,  0.0745,  0.2126,  0.0328, -0.0942, -0.0471,  0.1618,\n                       -0.0537,  0.0212, -0.1532, -0.1267,  0.0784, -0.0447,  0.2001, -0.2143,\n                        0.1965, -0.0276, -0.1727, -0.0250],\n                      [ 0.1589, -0.1944,  0.1796,  0.1019, -0.2117,  0.0490,  0.2110,  0.1788,\n                        0.1930, -0.0027, -0.0371, -0.0146, -0.2105, -0.0348, -0.2216, -0.2102,\n                       -0.2218,  0.0343,  0.0429, -0.1084],\n                      [-0.1792, -0.1948, -0.1414,  0.0713,  0.0395,  0.0151,  0.1075,  0.0900,\n                        0.0121, -0.0498, -0.1394,  0.1745,  0.0805,  0.2009, -0.1817,  0.0317,\n                        0.1499, -0.0861,  0.1364,  0.1085]])),\n             ('0.bias',\n              tensor([-0.2157, -0.1423,  0.1574, -0.0399,  0.0700,  0.1900,  0.0724, -0.1432,\n                       0.2224, -0.1936]))])"
     },
     "execution_count": 13,
     "metadata": {},
     "output_type": "execute_result"
    }
   ],
   "source": [
    "model = torch.nn.Sequential(\n",
    "    torch.nn.Linear(20, 10),\n",
    "    torch.nn.ReLU(),\n",
    ")\n",
    "dict1 = model.state_dict()\n",
    "dict1"
   ],
   "metadata": {
    "collapsed": false,
    "ExecuteTime": {
     "end_time": "2024-02-28T15:46:25.105381Z",
     "start_time": "2024-02-28T15:46:25.087443Z"
    }
   },
   "id": "41c262f59c46ed39",
   "execution_count": 13
  },
  {
   "cell_type": "code",
   "outputs": [],
   "source": [
    "def encrypt_random_vector(vector):\n",
    "    \"\"\"\n",
    "    Encrypts an array with random shape\n",
    "    :param vector: a numpy array\n",
    "    :return: the encrypted array reshaped to 1d, the private keyring and the shape of the array\n",
    "    \"\"\"\n",
    "    vector_shape = vector.shape\n",
    "    vector_1d = vector.reshape(-1)\n",
    "    keyring = paillier.PaillierPrivateKeyring()\n",
    "    public_key = []\n",
    "    encrypted_list = []\n",
    "    for _ in range(len(vector_1d)):\n",
    "        pub, priv = paillier.generate_paillier_keypair()\n",
    "        public_key.append(pub)\n",
    "        keyring.add(priv)\n",
    "    for i in tqdm(range(len(vector_1d))):\n",
    "        encrypted_list.append(public_key[i].encrypt(vector_1d[i]))\n",
    "    return encrypted_list, keyring, vector_shape\n",
    "\n",
    "def decrypt_random_vector(encrypted):\n",
    "    \"\"\"\n",
    "    decrypts an array with random shape using the result of the encryption function\n",
    "    :param encrypted: the result of the encryption function\n",
    "    :return: the decrypted array\n",
    "    \"\"\"\n",
    "    encrypted_list, keyring, vector_shape = encrypted[0], encrypted[1], encrypted[2]\n",
    "    decrypted_list = []\n",
    "    for i in tqdm(range(len(encrypted_list))):\n",
    "        decrypted_list.append(keyring.decrypt(encrypted_list[i]))\n",
    "    decrypted_vector = np.array(decrypted_list).reshape(vector_shape)\n",
    "    return decrypted_vector"
   ],
   "metadata": {
    "collapsed": false,
    "ExecuteTime": {
     "end_time": "2024-02-28T15:58:03.410326Z",
     "start_time": "2024-02-28T15:58:03.396374Z"
    }
   },
   "id": "d2eaf0123222389b",
   "execution_count": 29
  },
  {
   "cell_type": "code",
   "outputs": [],
   "source": [
    "def encrypt_paramter_dict(w_dict):\n",
    "    \"\"\"we encrypt the parameter tensors in dictionary\"\"\"\n",
    "    key_list, tuple_list = [], []\n",
    "    for key, value in tqdm(w_dict.items()):\n",
    "        print(value)\n",
    "        print(np.array(value, dtype=np.float64))\n",
    "        tuple_encryption = encrypt_random_vector(np.array(value, dtype=np.float64))\n",
    "        tuple_list.append(tuple_encryption)\n",
    "        key_list.append(key)\n",
    "    return key_list, tuple_list\n",
    "\n",
    "def decypt_order_dict(encrypted_pair):\n",
    "    \"\"\"Designed to decrypt the dict of the global parameters\"\"\"\n",
    "    # 传入的参数是一对列表，第一个列表中包含字典的key，第二个包含一系列tuple用于解密\n",
    "    key_list, tuple_list = encrypted_pair[0], encrypted_pair[1]\n",
    "    decrypted_dict = {}\n",
    "    for index, en_tuple in enumerate(tuple_list):\n",
    "        decrypted_dict[key_list[index]] = decrypt_random_vector(en_tuple)\n",
    "    return decrypted_dict"
   ],
   "metadata": {
    "collapsed": false,
    "ExecuteTime": {
     "end_time": "2024-02-28T16:00:10.876102Z",
     "start_time": "2024-02-28T16:00:10.857174Z"
    }
   },
   "id": "9a2ed2fda9caf5df",
   "execution_count": 34
  },
  {
   "cell_type": "code",
   "outputs": [
    {
     "name": "stderr",
     "output_type": "stream",
     "text": [
      "  0%|          | 0/2 [00:00<?, ?it/s]"
     ]
    },
    {
     "name": "stdout",
     "output_type": "stream",
     "text": [
      "tensor([[ 0.1152, -0.1494,  0.0746,  0.1382,  0.0954, -0.2129, -0.0364, -0.0303,\n",
      "         -0.0134,  0.0903, -0.1527,  0.1547,  0.0439, -0.1754, -0.0059, -0.1625,\n",
      "          0.1836, -0.1389, -0.1688,  0.0078],\n",
      "        [-0.1970,  0.2144,  0.1270,  0.1825,  0.0266,  0.1565, -0.2115, -0.2190,\n",
      "          0.1667,  0.1963,  0.2194, -0.0482, -0.1382,  0.1716,  0.0684, -0.1222,\n",
      "         -0.0772,  0.0579, -0.1700, -0.1036],\n",
      "        [ 0.1800, -0.1441, -0.1091,  0.0511,  0.0451,  0.0439, -0.0759,  0.1657,\n",
      "          0.1361, -0.0696,  0.1651, -0.1858, -0.1468,  0.1681,  0.0479,  0.1335,\n",
      "          0.0235,  0.2120, -0.0235,  0.1609],\n",
      "        [ 0.0635,  0.1810,  0.0416,  0.0279,  0.0858, -0.1147, -0.1616, -0.0342,\n",
      "         -0.0314,  0.0787, -0.1648,  0.1374, -0.2007,  0.1755,  0.1366,  0.2135,\n",
      "         -0.0906,  0.0360, -0.0893,  0.1323],\n",
      "        [ 0.0214, -0.1772,  0.0940,  0.0115,  0.1899,  0.1250, -0.0032, -0.2001,\n",
      "         -0.1171, -0.1114,  0.0976,  0.2077, -0.0590,  0.0543,  0.2160, -0.0612,\n",
      "         -0.0330,  0.0651, -0.0876, -0.0611],\n",
      "        [-0.0161,  0.2075,  0.2118, -0.2219,  0.1720,  0.1362, -0.1607, -0.0606,\n",
      "          0.0664, -0.2142,  0.1737, -0.1404, -0.1169,  0.0466,  0.1243, -0.1426,\n",
      "         -0.1071, -0.1824, -0.1548,  0.1759],\n",
      "        [ 0.0022,  0.2092, -0.0830,  0.0401,  0.1818,  0.0927,  0.0791,  0.1748,\n",
      "         -0.1248, -0.1511, -0.0112,  0.1370, -0.2192,  0.0321,  0.0163, -0.1872,\n",
      "         -0.0882,  0.0305, -0.0806, -0.1786],\n",
      "        [ 0.0083, -0.0485,  0.0745,  0.2126,  0.0328, -0.0942, -0.0471,  0.1618,\n",
      "         -0.0537,  0.0212, -0.1532, -0.1267,  0.0784, -0.0447,  0.2001, -0.2143,\n",
      "          0.1965, -0.0276, -0.1727, -0.0250],\n",
      "        [ 0.1589, -0.1944,  0.1796,  0.1019, -0.2117,  0.0490,  0.2110,  0.1788,\n",
      "          0.1930, -0.0027, -0.0371, -0.0146, -0.2105, -0.0348, -0.2216, -0.2102,\n",
      "         -0.2218,  0.0343,  0.0429, -0.1084],\n",
      "        [-0.1792, -0.1948, -0.1414,  0.0713,  0.0395,  0.0151,  0.1075,  0.0900,\n",
      "          0.0121, -0.0498, -0.1394,  0.1745,  0.0805,  0.2009, -0.1817,  0.0317,\n",
      "          0.1499, -0.0861,  0.1364,  0.1085]])\n",
      "[[ 0.11518455 -0.14939436  0.07464749  0.13816199  0.09538141 -0.21291763\n",
      "  -0.03641471 -0.03026898 -0.01343769  0.09034711 -0.15266111  0.15466586\n",
      "   0.04393148 -0.17538685 -0.00593001 -0.16249502  0.18362737 -0.13889664\n",
      "  -0.16882753  0.00782479]\n",
      " [-0.19697411  0.2144047   0.12703305  0.18246636  0.02655205  0.15646845\n",
      "  -0.21153474 -0.21896769  0.16667801  0.19625062  0.21943474 -0.04816642\n",
      "  -0.1382429   0.17164084  0.06841075 -0.12224845 -0.07718995  0.05788633\n",
      "  -0.17004006 -0.10357421]\n",
      " [ 0.18003663 -0.14414659 -0.10913046  0.05112603  0.04514816  0.04389238\n",
      "  -0.07587829  0.16568843  0.13612193 -0.06956978  0.16511205 -0.1858343\n",
      "  -0.14678171  0.16807595  0.04793549  0.13348785  0.02347019  0.21201462\n",
      "  -0.02345286  0.1608958 ]\n",
      " [ 0.06352219  0.18099058  0.0415678   0.02794638  0.08581647 -0.11467796\n",
      "  -0.1616374  -0.03423189 -0.03143638  0.07873124 -0.16477542  0.13744977\n",
      "  -0.20074423  0.17550594  0.13661483  0.21354517 -0.09063807  0.03600049\n",
      "  -0.08934744  0.13229042]\n",
      " [ 0.02137382 -0.17717856  0.09399995  0.01154527  0.1898539   0.12498564\n",
      "  -0.00320235 -0.20014653 -0.117084   -0.11142134  0.09756666  0.20768404\n",
      "  -0.05903575  0.05427498  0.21597967 -0.06119537 -0.03295176  0.06507462\n",
      "  -0.08757026 -0.06114766]\n",
      " [-0.01613352  0.20748821  0.2118336  -0.22186106  0.1719622   0.13623175\n",
      "  -0.16072597 -0.06063689  0.06637695 -0.21424651  0.17367339 -0.14043821\n",
      "  -0.11693313  0.0465593   0.12430418 -0.1426126  -0.10709829 -0.182417\n",
      "  -0.1548089   0.1758897 ]\n",
      " [ 0.0021871   0.20915562 -0.08300024  0.04012033  0.18180305  0.09274983\n",
      "   0.07912141  0.17482811 -0.12476333 -0.15110917 -0.01117009  0.13696617\n",
      "  -0.21924156  0.03214911  0.01626645 -0.18716064 -0.08820607  0.03052628\n",
      "  -0.08055469 -0.17859957]\n",
      " [ 0.00832918 -0.04851268  0.07450286  0.21258023  0.03281963 -0.09418008\n",
      "  -0.04707451  0.16176638 -0.05365855  0.02122882 -0.15316318 -0.12673685\n",
      "   0.07842106 -0.04470173  0.20007399 -0.21429974  0.19647926 -0.02762055\n",
      "  -0.17273897 -0.0249701 ]\n",
      " [ 0.15889367 -0.19444954  0.17962435  0.10185468 -0.21173728  0.04900602\n",
      "   0.21100572  0.1787597   0.19304782 -0.00273354 -0.03712532 -0.01455127\n",
      "  -0.21046579 -0.03478852 -0.22156084 -0.21023193 -0.22183444  0.03427744\n",
      "   0.04286805 -0.10841558]\n",
      " [-0.17917857 -0.19482712 -0.14143683  0.07132998  0.03951555  0.01505792\n",
      "   0.1075308   0.08998606  0.0120693  -0.04975608 -0.13938573  0.17449391\n",
      "   0.08046088  0.20085624 -0.18172842  0.03172168  0.14993638 -0.08611757\n",
      "   0.13637218  0.10848966]]\n"
     ]
    },
    {
     "name": "stderr",
     "output_type": "stream",
     "text": [
      "\n",
      "  0%|          | 0/200 [00:00<?, ?it/s]\u001B[A\n",
      "  2%|▎         | 5/200 [00:00<00:04, 40.47it/s]\u001B[A\n",
      "  5%|▌         | 10/200 [00:00<00:04, 39.97it/s]\u001B[A\n",
      "  8%|▊         | 15/200 [00:00<00:04, 40.10it/s]\u001B[A\n",
      " 10%|█         | 20/200 [00:00<00:04, 39.91it/s]\u001B[A\n",
      " 12%|█▎        | 25/200 [00:00<00:04, 39.97it/s]\u001B[A\n",
      " 15%|█▌        | 30/200 [00:00<00:04, 40.07it/s]\u001B[A\n",
      " 18%|█▊        | 35/200 [00:00<00:04, 40.14it/s]\u001B[A\n",
      " 20%|██        | 40/200 [00:00<00:03, 40.16it/s]\u001B[A\n",
      " 22%|██▎       | 45/200 [00:01<00:03, 40.11it/s]\u001B[A\n",
      " 25%|██▌       | 50/200 [00:01<00:03, 39.77it/s]\u001B[A\n",
      " 27%|██▋       | 54/200 [00:01<00:03, 39.81it/s]\u001B[A\n",
      " 29%|██▉       | 58/200 [00:01<00:03, 39.73it/s]\u001B[A\n",
      " 32%|███▏      | 63/200 [00:01<00:03, 39.84it/s]\u001B[A\n",
      " 34%|███▎      | 67/200 [00:01<00:03, 39.82it/s]\u001B[A\n",
      " 36%|███▌      | 71/200 [00:01<00:03, 39.52it/s]\u001B[A\n",
      " 38%|███▊      | 75/200 [00:01<00:03, 39.60it/s]\u001B[A\n",
      " 40%|███▉      | 79/200 [00:01<00:03, 39.59it/s]\u001B[A\n",
      " 42%|████▏     | 84/200 [00:02<00:02, 39.85it/s]\u001B[A\n",
      " 44%|████▍     | 88/200 [00:02<00:02, 39.56it/s]\u001B[A\n",
      " 46%|████▌     | 92/200 [00:02<00:02, 39.61it/s]\u001B[A\n",
      " 48%|████▊     | 97/200 [00:02<00:02, 39.88it/s]\u001B[A\n",
      " 50%|█████     | 101/200 [00:02<00:02, 39.78it/s]\u001B[A\n",
      " 53%|█████▎    | 106/200 [00:02<00:02, 39.97it/s]\u001B[A\n",
      " 55%|█████▌    | 110/200 [00:02<00:02, 39.67it/s]\u001B[A\n",
      " 57%|█████▊    | 115/200 [00:02<00:02, 39.82it/s]\u001B[A\n",
      " 60%|█████▉    | 119/200 [00:02<00:02, 39.84it/s]\u001B[A\n",
      " 62%|██████▏   | 124/200 [00:03<00:01, 40.03it/s]\u001B[A\n",
      " 64%|██████▍   | 129/200 [00:03<00:01, 40.05it/s]\u001B[A\n",
      " 67%|██████▋   | 134/200 [00:03<00:01, 39.75it/s]\u001B[A\n",
      " 69%|██████▉   | 138/200 [00:03<00:01, 39.65it/s]\u001B[A\n",
      " 72%|███████▏  | 143/200 [00:03<00:01, 39.95it/s]\u001B[A\n",
      " 74%|███████▍  | 148/200 [00:03<00:01, 39.88it/s]\u001B[A\n",
      " 76%|███████▋  | 153/200 [00:03<00:01, 40.00it/s]\u001B[A\n",
      " 78%|███████▊  | 157/200 [00:03<00:01, 39.93it/s]\u001B[A\n",
      " 81%|████████  | 162/200 [00:04<00:00, 40.10it/s]\u001B[A\n",
      " 84%|████████▎ | 167/200 [00:04<00:00, 40.16it/s]\u001B[A\n",
      " 86%|████████▌ | 172/200 [00:04<00:00, 40.01it/s]\u001B[A\n",
      " 88%|████████▊ | 177/200 [00:04<00:00, 40.07it/s]\u001B[A\n",
      " 91%|█████████ | 182/200 [00:04<00:00, 40.10it/s]\u001B[A\n",
      " 94%|█████████▎| 187/200 [00:04<00:00, 40.17it/s]\u001B[A\n",
      " 96%|█████████▌| 192/200 [00:04<00:00, 39.57it/s]\u001B[A\n",
      "100%|██████████| 200/200 [00:05<00:00, 39.88it/s]\u001B[A\n",
      " 50%|█████     | 1/2 [00:59<00:59, 59.61s/it]"
     ]
    },
    {
     "name": "stdout",
     "output_type": "stream",
     "text": [
      "tensor([-0.2157, -0.1423,  0.1574, -0.0399,  0.0700,  0.1900,  0.0724, -0.1432,\n",
      "         0.2224, -0.1936])\n",
      "[-0.21574047 -0.14234108  0.15735814 -0.03993347  0.0700005   0.1900393\n",
      "  0.07242051 -0.14315319  0.22235888 -0.19361088]\n"
     ]
    },
    {
     "name": "stderr",
     "output_type": "stream",
     "text": [
      "\n",
      "  0%|          | 0/10 [00:00<?, ?it/s]\u001B[A\n",
      " 40%|████      | 4/10 [00:00<00:00, 39.14it/s]\u001B[A\n",
      "100%|██████████| 10/10 [00:00<00:00, 38.48it/s][A\n",
      "100%|██████████| 2/2 [01:03<00:00, 31.74s/it]\n"
     ]
    },
    {
     "data": {
      "text/plain": "(['0.weight', '0.bias'],\n [([<phe.paillier.EncryptedNumber at 0x1a5187df4c0>,\n    <phe.paillier.EncryptedNumber at 0x1a5187df520>,\n    <phe.paillier.EncryptedNumber at 0x1a5187df610>,\n    <phe.paillier.EncryptedNumber at 0x1a5187df640>,\n    <phe.paillier.EncryptedNumber at 0x1a5187df6d0>,\n    <phe.paillier.EncryptedNumber at 0x1a5187df880>,\n    <phe.paillier.EncryptedNumber at 0x1a5187df6a0>,\n    <phe.paillier.EncryptedNumber at 0x1a5187df850>,\n    <phe.paillier.EncryptedNumber at 0x1a5187df910>,\n    <phe.paillier.EncryptedNumber at 0x1a5187df940>,\n    <phe.paillier.EncryptedNumber at 0x1a5187df670>,\n    <phe.paillier.EncryptedNumber at 0x1a5187df700>,\n    <phe.paillier.EncryptedNumber at 0x1a5187dfa60>,\n    <phe.paillier.EncryptedNumber at 0x1a5187df8e0>,\n    <phe.paillier.EncryptedNumber at 0x1a5187dfac0>,\n    <phe.paillier.EncryptedNumber at 0x1a5187df820>,\n    <phe.paillier.EncryptedNumber at 0x1a5187dfaf0>,\n    <phe.paillier.EncryptedNumber at 0x1a5187dfbb0>,\n    <phe.paillier.EncryptedNumber at 0x1a5187dfbe0>,\n    <phe.paillier.EncryptedNumber at 0x1a5187dfca0>,\n    <phe.paillier.EncryptedNumber at 0x1a5187dfdf0>,\n    <phe.paillier.EncryptedNumber at 0x1a5187dfe80>,\n    <phe.paillier.EncryptedNumber at 0x1a5187dfee0>,\n    <phe.paillier.EncryptedNumber at 0x1a5187dff40>,\n    <phe.paillier.EncryptedNumber at 0x1a5187dfd60>,\n    <phe.paillier.EncryptedNumber at 0x1a5187dfd30>,\n    <phe.paillier.EncryptedNumber at 0x1a5187dfe50>,\n    <phe.paillier.EncryptedNumber at 0x1a5187dff10>,\n    <phe.paillier.EncryptedNumber at 0x1a5187dffa0>,\n    <phe.paillier.EncryptedNumber at 0x1a5188280a0>,\n    <phe.paillier.EncryptedNumber at 0x1a5188281c0>,\n    <phe.paillier.EncryptedNumber at 0x1a5187dfe20>,\n    <phe.paillier.EncryptedNumber at 0x1a518828130>,\n    <phe.paillier.EncryptedNumber at 0x1a518828250>,\n    <phe.paillier.EncryptedNumber at 0x1a518828220>,\n    <phe.paillier.EncryptedNumber at 0x1a518828400>,\n    <phe.paillier.EncryptedNumber at 0x1a518828310>,\n    <phe.paillier.EncryptedNumber at 0x1a5188282b0>,\n    <phe.paillier.EncryptedNumber at 0x1a5188283d0>,\n    <phe.paillier.EncryptedNumber at 0x1a518828430>,\n    <phe.paillier.EncryptedNumber at 0x1a5188285b0>,\n    <phe.paillier.EncryptedNumber at 0x1a518828640>,\n    <phe.paillier.EncryptedNumber at 0x1a5188282e0>,\n    <phe.paillier.EncryptedNumber at 0x1a5188284f0>,\n    <phe.paillier.EncryptedNumber at 0x1a5188286a0>,\n    <phe.paillier.EncryptedNumber at 0x1a518828760>,\n    <phe.paillier.EncryptedNumber at 0x1a5188286d0>,\n    <phe.paillier.EncryptedNumber at 0x1a518828730>,\n    <phe.paillier.EncryptedNumber at 0x1a518828490>,\n    <phe.paillier.EncryptedNumber at 0x1a5188287f0>,\n    <phe.paillier.EncryptedNumber at 0x1a518828880>,\n    <phe.paillier.EncryptedNumber at 0x1a5188288e0>,\n    <phe.paillier.EncryptedNumber at 0x1a518828910>,\n    <phe.paillier.EncryptedNumber at 0x1a518828970>,\n    <phe.paillier.EncryptedNumber at 0x1a518828ac0>,\n    <phe.paillier.EncryptedNumber at 0x1a5188288b0>,\n    <phe.paillier.EncryptedNumber at 0x1a518828a30>,\n    <phe.paillier.EncryptedNumber at 0x1a5188289d0>,\n    <phe.paillier.EncryptedNumber at 0x1a518828bb0>,\n    <phe.paillier.EncryptedNumber at 0x1a518828b80>,\n    <phe.paillier.EncryptedNumber at 0x1a518828c10>,\n    <phe.paillier.EncryptedNumber at 0x1a518828ca0>,\n    <phe.paillier.EncryptedNumber at 0x1a518828cd0>,\n    <phe.paillier.EncryptedNumber at 0x1a518828dc0>,\n    <phe.paillier.EncryptedNumber at 0x1a518828e20>,\n    <phe.paillier.EncryptedNumber at 0x1a518828df0>,\n    <phe.paillier.EncryptedNumber at 0x1a518828d30>,\n    <phe.paillier.EncryptedNumber at 0x1a518828f10>,\n    <phe.paillier.EncryptedNumber at 0x1a518828ee0>,\n    <phe.paillier.EncryptedNumber at 0x1a518828f40>,\n    <phe.paillier.EncryptedNumber at 0x1a518828eb0>,\n    <phe.paillier.EncryptedNumber at 0x1a518829030>,\n    <phe.paillier.EncryptedNumber at 0x1a518829060>,\n    <phe.paillier.EncryptedNumber at 0x1a518829120>,\n    <phe.paillier.EncryptedNumber at 0x1a518829090>,\n    <phe.paillier.EncryptedNumber at 0x1a5188292a0>,\n    <phe.paillier.EncryptedNumber at 0x1a518829210>,\n    <phe.paillier.EncryptedNumber at 0x1a5188290c0>,\n    <phe.paillier.EncryptedNumber at 0x1a5188292d0>,\n    <phe.paillier.EncryptedNumber at 0x1a518829420>,\n    <phe.paillier.EncryptedNumber at 0x1a5188291e0>,\n    <phe.paillier.EncryptedNumber at 0x1a5188293c0>,\n    <phe.paillier.EncryptedNumber at 0x1a518829330>,\n    <phe.paillier.EncryptedNumber at 0x1a518829540>,\n    <phe.paillier.EncryptedNumber at 0x1a518829600>,\n    <phe.paillier.EncryptedNumber at 0x1a5188295a0>,\n    <phe.paillier.EncryptedNumber at 0x1a5188295d0>,\n    <phe.paillier.EncryptedNumber at 0x1a518829630>,\n    <phe.paillier.EncryptedNumber at 0x1a5188296c0>,\n    <phe.paillier.EncryptedNumber at 0x1a518829720>,\n    <phe.paillier.EncryptedNumber at 0x1a518829780>,\n    <phe.paillier.EncryptedNumber at 0x1a5188297e0>,\n    <phe.paillier.EncryptedNumber at 0x1a518829930>,\n    <phe.paillier.EncryptedNumber at 0x1a518829870>,\n    <phe.paillier.EncryptedNumber at 0x1a5188298a0>,\n    <phe.paillier.EncryptedNumber at 0x1a5188299c0>,\n    <phe.paillier.EncryptedNumber at 0x1a518829810>,\n    <phe.paillier.EncryptedNumber at 0x1a518829ab0>,\n    <phe.paillier.EncryptedNumber at 0x1a518829ae0>,\n    <phe.paillier.EncryptedNumber at 0x1a518829b40>,\n    <phe.paillier.EncryptedNumber at 0x1a518829a50>,\n    <phe.paillier.EncryptedNumber at 0x1a518829b70>,\n    <phe.paillier.EncryptedNumber at 0x1a518829c60>,\n    <phe.paillier.EncryptedNumber at 0x1a518829c30>,\n    <phe.paillier.EncryptedNumber at 0x1a5188298d0>,\n    <phe.paillier.EncryptedNumber at 0x1a518829d20>,\n    <phe.paillier.EncryptedNumber at 0x1a518829db0>,\n    <phe.paillier.EncryptedNumber at 0x1a518829f30>,\n    <phe.paillier.EncryptedNumber at 0x1a518829ed0>,\n    <phe.paillier.EncryptedNumber at 0x1a518829f00>,\n    <phe.paillier.EncryptedNumber at 0x1a518829ff0>,\n    <phe.paillier.EncryptedNumber at 0x1a51882a080>,\n    <phe.paillier.EncryptedNumber at 0x1a51882a0e0>,\n    <phe.paillier.EncryptedNumber at 0x1a518829ea0>,\n    <phe.paillier.EncryptedNumber at 0x1a51882a020>,\n    <phe.paillier.EncryptedNumber at 0x1a51882a050>,\n    <phe.paillier.EncryptedNumber at 0x1a518829f60>,\n    <phe.paillier.EncryptedNumber at 0x1a51882a170>,\n    <phe.paillier.EncryptedNumber at 0x1a51882a1a0>,\n    <phe.paillier.EncryptedNumber at 0x1a51882a230>,\n    <phe.paillier.EncryptedNumber at 0x1a51882a260>,\n    <phe.paillier.EncryptedNumber at 0x1a51882a350>,\n    <phe.paillier.EncryptedNumber at 0x1a51882a290>,\n    <phe.paillier.EncryptedNumber at 0x1a51882a320>,\n    <phe.paillier.EncryptedNumber at 0x1a51882a470>,\n    <phe.paillier.EncryptedNumber at 0x1a51882a410>,\n    <phe.paillier.EncryptedNumber at 0x1a51882a530>,\n    <phe.paillier.EncryptedNumber at 0x1a51882a500>,\n    <phe.paillier.EncryptedNumber at 0x1a51882a590>,\n    <phe.paillier.EncryptedNumber at 0x1a51882a740>,\n    <phe.paillier.EncryptedNumber at 0x1a51882a710>,\n    <phe.paillier.EncryptedNumber at 0x1a51882a680>,\n    <phe.paillier.EncryptedNumber at 0x1a51882a5f0>,\n    <phe.paillier.EncryptedNumber at 0x1a51882a770>,\n    <phe.paillier.EncryptedNumber at 0x1a51882a920>,\n    <phe.paillier.EncryptedNumber at 0x1a51882a830>,\n    <phe.paillier.EncryptedNumber at 0x1a51882a860>,\n    <phe.paillier.EncryptedNumber at 0x1a51882a980>,\n    <phe.paillier.EncryptedNumber at 0x1a51882aa70>,\n    <phe.paillier.EncryptedNumber at 0x1a51882ab00>,\n    <phe.paillier.EncryptedNumber at 0x1a51882ab90>,\n    <phe.paillier.EncryptedNumber at 0x1a51882abc0>,\n    <phe.paillier.EncryptedNumber at 0x1a51882abf0>,\n    <phe.paillier.EncryptedNumber at 0x1a51882ac80>,\n    <phe.paillier.EncryptedNumber at 0x1a51882a9b0>,\n    <phe.paillier.EncryptedNumber at 0x1a51882aa10>,\n    <phe.paillier.EncryptedNumber at 0x1a51882aa40>,\n    <phe.paillier.EncryptedNumber at 0x1a51882acb0>,\n    <phe.paillier.EncryptedNumber at 0x1a51882ae00>,\n    <phe.paillier.EncryptedNumber at 0x1a51882ad40>,\n    <phe.paillier.EncryptedNumber at 0x1a51882ace0>,\n    <phe.paillier.EncryptedNumber at 0x1a51882ad10>,\n    <phe.paillier.EncryptedNumber at 0x1a51882ae90>,\n    <phe.paillier.EncryptedNumber at 0x1a51882b010>,\n    <phe.paillier.EncryptedNumber at 0x1a51882afe0>,\n    <phe.paillier.EncryptedNumber at 0x1a51882af50>,\n    <phe.paillier.EncryptedNumber at 0x1a51882aef0>,\n    <phe.paillier.EncryptedNumber at 0x1a51882b160>,\n    <phe.paillier.EncryptedNumber at 0x1a51882b0d0>,\n    <phe.paillier.EncryptedNumber at 0x1a51882b130>,\n    <phe.paillier.EncryptedNumber at 0x1a51882b190>,\n    <phe.paillier.EncryptedNumber at 0x1a51882b1f0>,\n    <phe.paillier.EncryptedNumber at 0x1a51882b3a0>,\n    <phe.paillier.EncryptedNumber at 0x1a51882b400>,\n    <phe.paillier.EncryptedNumber at 0x1a51882b460>,\n    <phe.paillier.EncryptedNumber at 0x1a51882b4c0>,\n    <phe.paillier.EncryptedNumber at 0x1a51882b430>,\n    <phe.paillier.EncryptedNumber at 0x1a51882b550>,\n    <phe.paillier.EncryptedNumber at 0x1a51882b580>,\n    <phe.paillier.EncryptedNumber at 0x1a51882b250>,\n    <phe.paillier.EncryptedNumber at 0x1a51882b310>,\n    <phe.paillier.EncryptedNumber at 0x1a51882b640>,\n    <phe.paillier.EncryptedNumber at 0x1a51882b670>,\n    <phe.paillier.EncryptedNumber at 0x1a51882b6a0>,\n    <phe.paillier.EncryptedNumber at 0x1a51882b730>,\n    <phe.paillier.EncryptedNumber at 0x1a51882b700>,\n    <phe.paillier.EncryptedNumber at 0x1a51882b790>,\n    <phe.paillier.EncryptedNumber at 0x1a51882b8e0>,\n    <phe.paillier.EncryptedNumber at 0x1a51882b9a0>,\n    <phe.paillier.EncryptedNumber at 0x1a51882b7c0>,\n    <phe.paillier.EncryptedNumber at 0x1a51882ba60>,\n    <phe.paillier.EncryptedNumber at 0x1a51882bac0>,\n    <phe.paillier.EncryptedNumber at 0x1a51882b850>,\n    <phe.paillier.EncryptedNumber at 0x1a51882bb20>,\n    <phe.paillier.EncryptedNumber at 0x1a51882b7f0>,\n    <phe.paillier.EncryptedNumber at 0x1a51882b940>,\n    <phe.paillier.EncryptedNumber at 0x1a51882bb50>,\n    <phe.paillier.EncryptedNumber at 0x1a51882bc10>,\n    <phe.paillier.EncryptedNumber at 0x1a51882bc40>,\n    <phe.paillier.EncryptedNumber at 0x1a51882bcd0>,\n    <phe.paillier.EncryptedNumber at 0x1a51882bc70>,\n    <phe.paillier.EncryptedNumber at 0x1a51882bca0>,\n    <phe.paillier.EncryptedNumber at 0x1a51882bdc0>,\n    <phe.paillier.EncryptedNumber at 0x1a51882bf40>,\n    <phe.paillier.EncryptedNumber at 0x1a51882beb0>,\n    <phe.paillier.EncryptedNumber at 0x1a51882bdf0>,\n    <phe.paillier.EncryptedNumber at 0x1a51882be50>,\n    <phe.paillier.EncryptedNumber at 0x1a51882bd90>,\n    <phe.paillier.EncryptedNumber at 0x1a51882bf10>,\n    <phe.paillier.EncryptedNumber at 0x1a5188300a0>],\n   <phe.paillier.PaillierPrivateKeyring at 0x1a517085420>,\n   (10, 20)),\n  ([<phe.paillier.EncryptedNumber at 0x1a5188306d0>,\n    <phe.paillier.EncryptedNumber at 0x1a518830880>,\n    <phe.paillier.EncryptedNumber at 0x1a518830790>,\n    <phe.paillier.EncryptedNumber at 0x1a5188307c0>,\n    <phe.paillier.EncryptedNumber at 0x1a518830730>,\n    <phe.paillier.EncryptedNumber at 0x1a5188309d0>,\n    <phe.paillier.EncryptedNumber at 0x1a518830970>,\n    <phe.paillier.EncryptedNumber at 0x1a5188308b0>,\n    <phe.paillier.EncryptedNumber at 0x1a518830a90>,\n    <phe.paillier.EncryptedNumber at 0x1a518830910>],\n   <phe.paillier.PaillierPrivateKeyring at 0x1a51882bfa0>,\n   (10,))])"
     },
     "execution_count": 35,
     "metadata": {},
     "output_type": "execute_result"
    }
   ],
   "source": [
    "pair = encrypt_paramter_dict(dict1)\n",
    "pair"
   ],
   "metadata": {
    "collapsed": false,
    "ExecuteTime": {
     "end_time": "2024-02-28T16:01:14.849827Z",
     "start_time": "2024-02-28T16:00:11.354786Z"
    }
   },
   "id": "793dfd5b19d8e84",
   "execution_count": 35
  },
  {
   "cell_type": "code",
   "outputs": [
    {
     "name": "stderr",
     "output_type": "stream",
     "text": [
      "100%|██████████| 200/200 [00:01<00:00, 139.70it/s]\n",
      "100%|██████████| 10/10 [00:00<00:00, 146.43it/s]\n"
     ]
    },
    {
     "data": {
      "text/plain": "{'0.weight': array([[ 0.11518455, -0.14939436,  0.07464749,  0.13816199,  0.09538141,\n         -0.21291763, -0.03641471, -0.03026898, -0.01343769,  0.09034711,\n         -0.15266111,  0.15466586,  0.04393148, -0.17538685, -0.00593001,\n         -0.16249502,  0.18362737, -0.13889664, -0.16882753,  0.00782479],\n        [-0.19697411,  0.2144047 ,  0.12703305,  0.18246636,  0.02655205,\n          0.15646845, -0.21153474, -0.21896769,  0.16667801,  0.19625062,\n          0.21943474, -0.04816642, -0.1382429 ,  0.17164084,  0.06841075,\n         -0.12224845, -0.07718995,  0.05788633, -0.17004006, -0.10357421],\n        [ 0.18003663, -0.14414659, -0.10913046,  0.05112603,  0.04514816,\n          0.04389238, -0.07587829,  0.16568843,  0.13612193, -0.06956978,\n          0.16511205, -0.1858343 , -0.14678171,  0.16807595,  0.04793549,\n          0.13348785,  0.02347019,  0.21201462, -0.02345286,  0.16089579],\n        [ 0.06352219,  0.18099058,  0.0415678 ,  0.02794638,  0.08581647,\n         -0.11467796, -0.1616374 , -0.03423189, -0.03143638,  0.07873124,\n         -0.16477542,  0.13744977, -0.20074423,  0.17550594,  0.13661483,\n          0.21354517, -0.09063807,  0.03600049, -0.08934744,  0.13229042],\n        [ 0.02137382, -0.17717856,  0.09399995,  0.01154527,  0.18985391,\n          0.12498564, -0.00320235, -0.20014653, -0.117084  , -0.11142134,\n          0.09756666,  0.20768404, -0.05903575,  0.05427498,  0.21597967,\n         -0.06119537, -0.03295176,  0.06507462, -0.08757026, -0.06114766],\n        [-0.01613352,  0.20748821,  0.2118336 , -0.22186106,  0.1719622 ,\n          0.13623175, -0.16072597, -0.06063689,  0.06637695, -0.21424651,\n          0.17367339, -0.14043821, -0.11693313,  0.0465593 ,  0.12430418,\n         -0.14261261, -0.10709829, -0.18241701, -0.15480889,  0.1758897 ],\n        [ 0.0021871 ,  0.20915562, -0.08300024,  0.04012033,  0.18180305,\n          0.09274983,  0.07912141,  0.17482811, -0.12476333, -0.15110917,\n         -0.01117009,  0.13696617, -0.21924156,  0.03214911,  0.01626645,\n         -0.18716064, -0.08820607,  0.03052628, -0.08055469, -0.17859957],\n        [ 0.00832918, -0.04851268,  0.07450286,  0.21258023,  0.03281963,\n         -0.09418008, -0.04707451,  0.16176638, -0.05365855,  0.02122882,\n         -0.15316318, -0.12673685,  0.07842106, -0.04470173,  0.20007399,\n         -0.21429974,  0.19647926, -0.02762055, -0.17273897, -0.0249701 ],\n        [ 0.15889367, -0.19444954,  0.17962435,  0.10185468, -0.21173728,\n          0.04900602,  0.21100572,  0.17875969,  0.19304782, -0.00273354,\n         -0.03712532, -0.01455127, -0.21046579, -0.03478852, -0.22156084,\n         -0.21023193, -0.22183444,  0.03427744,  0.04286805, -0.10841558],\n        [-0.17917857, -0.19482712, -0.14143683,  0.07132998,  0.03951555,\n          0.01505792,  0.1075308 ,  0.08998606,  0.0120693 , -0.04975608,\n         -0.13938573,  0.17449391,  0.08046088,  0.20085624, -0.18172842,\n          0.03172168,  0.14993638, -0.08611757,  0.13637218,  0.10848966]]),\n '0.bias': array([-0.21574047, -0.14234108,  0.15735814, -0.03993347,  0.0700005 ,\n         0.19003931,  0.07242051, -0.14315319,  0.22235888, -0.19361088])}"
     },
     "execution_count": 36,
     "metadata": {},
     "output_type": "execute_result"
    }
   ],
   "source": [
    "decypt_order_dict(pair)"
   ],
   "metadata": {
    "collapsed": false,
    "ExecuteTime": {
     "end_time": "2024-02-28T16:01:48.350390Z",
     "start_time": "2024-02-28T16:01:46.832949Z"
    }
   },
   "id": "6ac79e26d9c17a18",
   "execution_count": 36
  },
  {
   "cell_type": "code",
   "outputs": [
    {
     "ename": "KeyboardInterrupt",
     "evalue": "",
     "output_type": "error",
     "traceback": [
      "\u001B[1;31m---------------------------------------------------------------------------\u001B[0m",
      "\u001B[1;31mKeyboardInterrupt\u001B[0m                         Traceback (most recent call last)",
      "Cell \u001B[1;32mIn[32], line 2\u001B[0m\n\u001B[0;32m      1\u001B[0m array \u001B[38;5;241m=\u001B[39m np\u001B[38;5;241m.\u001B[39mrandom\u001B[38;5;241m.\u001B[39mnormal(\u001B[38;5;241m0\u001B[39m, \u001B[38;5;241m1\u001B[39m, size\u001B[38;5;241m=\u001B[39m(\u001B[38;5;241m10\u001B[39m, \u001B[38;5;241m10\u001B[39m))\n\u001B[1;32m----> 2\u001B[0m encrypted \u001B[38;5;241m=\u001B[39m \u001B[43mencrypt_random_vector\u001B[49m\u001B[43m(\u001B[49m\u001B[43marray\u001B[49m\u001B[43m)\u001B[49m\n\u001B[0;32m      3\u001B[0m decrypt_random_vector(encrypted)\n\u001B[0;32m      4\u001B[0m array\u001B[38;5;241m.\u001B[39mdtype\n",
      "Cell \u001B[1;32mIn[29], line 13\u001B[0m, in \u001B[0;36mencrypt_random_vector\u001B[1;34m(vector)\u001B[0m\n\u001B[0;32m     11\u001B[0m encrypted_list \u001B[38;5;241m=\u001B[39m []\n\u001B[0;32m     12\u001B[0m \u001B[38;5;28;01mfor\u001B[39;00m _ \u001B[38;5;129;01min\u001B[39;00m \u001B[38;5;28mrange\u001B[39m(\u001B[38;5;28mlen\u001B[39m(vector_1d)):\n\u001B[1;32m---> 13\u001B[0m     pub, priv \u001B[38;5;241m=\u001B[39m \u001B[43mpaillier\u001B[49m\u001B[38;5;241;43m.\u001B[39;49m\u001B[43mgenerate_paillier_keypair\u001B[49m\u001B[43m(\u001B[49m\u001B[43m)\u001B[49m\n\u001B[0;32m     14\u001B[0m     public_key\u001B[38;5;241m.\u001B[39mappend(pub)\n\u001B[0;32m     15\u001B[0m     keyring\u001B[38;5;241m.\u001B[39madd(priv)\n",
      "File \u001B[1;32m~\\anaconda3\\envs\\pytorch\\lib\\site-packages\\phe\\paillier.py:55\u001B[0m, in \u001B[0;36mgenerate_paillier_keypair\u001B[1;34m(private_keyring, n_length)\u001B[0m\n\u001B[0;32m     53\u001B[0m n_len \u001B[38;5;241m=\u001B[39m \u001B[38;5;241m0\u001B[39m\n\u001B[0;32m     54\u001B[0m \u001B[38;5;28;01mwhile\u001B[39;00m n_len \u001B[38;5;241m!=\u001B[39m n_length:\n\u001B[1;32m---> 55\u001B[0m     p \u001B[38;5;241m=\u001B[39m \u001B[43mgetprimeover\u001B[49m\u001B[43m(\u001B[49m\u001B[43mn_length\u001B[49m\u001B[43m \u001B[49m\u001B[38;5;241;43m/\u001B[39;49m\u001B[38;5;241;43m/\u001B[39;49m\u001B[43m \u001B[49m\u001B[38;5;241;43m2\u001B[39;49m\u001B[43m)\u001B[49m\n\u001B[0;32m     56\u001B[0m     q \u001B[38;5;241m=\u001B[39m p\n\u001B[0;32m     57\u001B[0m     \u001B[38;5;28;01mwhile\u001B[39;00m q \u001B[38;5;241m==\u001B[39m p:\n",
      "File \u001B[1;32m~\\anaconda3\\envs\\pytorch\\lib\\site-packages\\phe\\util.py:116\u001B[0m, in \u001B[0;36mgetprimeover\u001B[1;34m(N)\u001B[0m\n\u001B[0;32m    114\u001B[0m     r \u001B[38;5;241m=\u001B[39m gmpy2\u001B[38;5;241m.\u001B[39mmpz(randfunc\u001B[38;5;241m.\u001B[39mgetrandbits(N))\n\u001B[0;32m    115\u001B[0m     r \u001B[38;5;241m=\u001B[39m gmpy2\u001B[38;5;241m.\u001B[39mbit_set(r, N \u001B[38;5;241m-\u001B[39m \u001B[38;5;241m1\u001B[39m)\n\u001B[1;32m--> 116\u001B[0m     \u001B[38;5;28;01mreturn\u001B[39;00m \u001B[38;5;28;43mint\u001B[39;49m\u001B[43m(\u001B[49m\u001B[43mgmpy2\u001B[49m\u001B[38;5;241;43m.\u001B[39;49m\u001B[43mnext_prime\u001B[49m\u001B[43m(\u001B[49m\u001B[43mr\u001B[49m\u001B[43m)\u001B[49m\u001B[43m)\u001B[49m\n\u001B[0;32m    117\u001B[0m \u001B[38;5;28;01melif\u001B[39;00m HAVE_CRYPTO:\n\u001B[0;32m    118\u001B[0m     \u001B[38;5;28;01mreturn\u001B[39;00m number\u001B[38;5;241m.\u001B[39mgetPrime(N, os\u001B[38;5;241m.\u001B[39murandom)\n",
      "\u001B[1;31mKeyboardInterrupt\u001B[0m: "
     ]
    }
   ],
   "source": [
    "array = np.random.normal(0, 1, size=(10, 10))\n",
    "encrypted = encrypt_random_vector(array)\n",
    "decrypt_random_vector(encrypted)\n",
    "array.dtype"
   ],
   "metadata": {
    "collapsed": false,
    "ExecuteTime": {
     "end_time": "2024-02-28T15:59:20.849082Z",
     "start_time": "2024-02-28T15:59:17.151621Z"
    }
   },
   "id": "26d284cf142a367f",
   "execution_count": 32
  },
  {
   "cell_type": "code",
   "outputs": [
    {
     "data": {
      "text/plain": "dtype('float64')"
     },
     "execution_count": 33,
     "metadata": {},
     "output_type": "execute_result"
    }
   ],
   "source": [
    "array = np.random.normal(0, 1, size=(10, 10))\n",
    "array.dtype"
   ],
   "metadata": {
    "collapsed": false,
    "ExecuteTime": {
     "end_time": "2024-02-28T15:59:29.226175Z",
     "start_time": "2024-02-28T15:59:29.218659Z"
    }
   },
   "id": "8b5b8072cc7f898e",
   "execution_count": 33
  },
  {
   "cell_type": "code",
   "outputs": [],
   "source": [],
   "metadata": {
    "collapsed": false
   },
   "id": "ee1b1f2a3bd8dec8"
  }
 ],
 "metadata": {
  "kernelspec": {
   "display_name": "Python 3",
   "language": "python",
   "name": "python3"
  },
  "language_info": {
   "codemirror_mode": {
    "name": "ipython",
    "version": 2
   },
   "file_extension": ".py",
   "mimetype": "text/x-python",
   "name": "python",
   "nbconvert_exporter": "python",
   "pygments_lexer": "ipython2",
   "version": "2.7.6"
  }
 },
 "nbformat": 4,
 "nbformat_minor": 5
}
