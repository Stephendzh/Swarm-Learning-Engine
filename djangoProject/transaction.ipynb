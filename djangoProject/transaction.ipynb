{
 "cells": [
  {
   "cell_type": "code",
   "execution_count": 36,
   "id": "initial_id",
   "metadata": {
    "collapsed": true,
    "ExecuteTime": {
     "end_time": "2024-03-04T13:51:23.040572Z",
     "start_time": "2024-03-04T13:51:23.026871Z"
    }
   },
   "outputs": [
    {
     "data": {
      "text/plain": "tensor([[-0.0281,  0.9222,  0.1015],\n        [-0.6450,  2.0672, -0.8082]])"
     },
     "execution_count": 36,
     "metadata": {},
     "output_type": "execute_result"
    }
   ],
   "source": [
    "import torch\n",
    "import numpy as np  \n",
    "tensor = torch.normal(0, 1, (2, 3))\n",
    "tensor"
   ]
  },
  {
   "cell_type": "code",
   "outputs": [
    {
     "data": {
      "text/plain": "tensor([-0.0281,  0.9222,  0.1015, -0.6450,  2.0672, -0.8082])"
     },
     "execution_count": 37,
     "metadata": {},
     "output_type": "execute_result"
    }
   ],
   "source": [
    "tensor1 = tensor.to(torch.float32).reshape(-1)\n",
    "tensor1"
   ],
   "metadata": {
    "collapsed": false,
    "ExecuteTime": {
     "end_time": "2024-03-04T13:51:30.695643Z",
     "start_time": "2024-03-04T13:51:30.678336Z"
    }
   },
   "id": "a335a7546966a69e",
   "execution_count": 37
  },
  {
   "cell_type": "code",
   "outputs": [
    {
     "name": "stdout",
     "output_type": "stream",
     "text": [
      "-0.5686191320419312\n",
      "-2.690969705581665\n",
      "-1.6726453304290771\n",
      "0.09197745472192764\n",
      "0.8018040657043457\n",
      "0.051378317177295685\n"
     ]
    }
   ],
   "source": [
    "for i in tensor1:\n",
    "    print(str(i.item()))"
   ],
   "metadata": {
    "collapsed": false,
    "ExecuteTime": {
     "end_time": "2024-03-04T13:51:07.096877Z",
     "start_time": "2024-03-04T13:51:07.077854Z"
    }
   },
   "id": "b9d613dbdc6b2b59",
   "execution_count": 35
  },
  {
   "cell_type": "code",
   "outputs": [
    {
     "data": {
      "text/plain": "torch.Size([2, 3])"
     },
     "execution_count": 39,
     "metadata": {},
     "output_type": "execute_result"
    }
   ],
   "source": [
    "tensor.size()"
   ],
   "metadata": {
    "collapsed": false,
    "ExecuteTime": {
     "end_time": "2024-03-04T13:52:04.912211Z",
     "start_time": "2024-03-04T13:52:04.898862Z"
    }
   },
   "id": "36ddf7a027273e91",
   "execution_count": 39
  },
  {
   "cell_type": "code",
   "outputs": [],
   "source": [
    "def transform_tensor(tensor):\n",
    "    size = tensor.size()\n",
    "    reshaped_tensor = tensor.view(-1)\n",
    "    str_tensor = []\n",
    "    for i in reshaped_tensor:\n",
    "        str_tensor.append(str(i.item()))\n",
    "    print(str_tensor)\n",
    "    list_tensor = []\n",
    "    for j in str_tensor:\n",
    "        list_tensor.append(float(j))\n",
    "    return torch.tensor(list_tensor).view(size)"
   ],
   "metadata": {
    "collapsed": false,
    "ExecuteTime": {
     "end_time": "2024-03-04T13:55:10.013615Z",
     "start_time": "2024-03-04T13:55:09.999650Z"
    }
   },
   "id": "de07e960a282de6",
   "execution_count": 42
  },
  {
   "cell_type": "code",
   "outputs": [
    {
     "name": "stdout",
     "output_type": "stream",
     "text": [
      "['-0.02806933969259262', '0.9222459197044373', '0.10147816687822342', '-0.6450067162513733', '2.0672428607940674', '-0.8081963062286377']\n"
     ]
    },
    {
     "data": {
      "text/plain": "tensor([[-0.0281,  0.9222,  0.1015],\n        [-0.6450,  2.0672, -0.8082]])"
     },
     "execution_count": 43,
     "metadata": {},
     "output_type": "execute_result"
    }
   ],
   "source": [
    "transform_tensor(tensor)"
   ],
   "metadata": {
    "collapsed": false,
    "ExecuteTime": {
     "end_time": "2024-03-04T13:55:11.684775Z",
     "start_time": "2024-03-04T13:55:11.659093Z"
    }
   },
   "id": "6cd87edd8a9e5f2f",
   "execution_count": 43
  },
  {
   "cell_type": "code",
   "outputs": [],
   "source": [],
   "metadata": {
    "collapsed": false
   },
   "id": "51570949a9db7869"
  }
 ],
 "metadata": {
  "kernelspec": {
   "display_name": "Python 3",
   "language": "python",
   "name": "python3"
  },
  "language_info": {
   "codemirror_mode": {
    "name": "ipython",
    "version": 2
   },
   "file_extension": ".py",
   "mimetype": "text/x-python",
   "name": "python",
   "nbconvert_exporter": "python",
   "pygments_lexer": "ipython2",
   "version": "2.7.6"
  }
 },
 "nbformat": 4,
 "nbformat_minor": 5
}
